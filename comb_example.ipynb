{
 "cells": [
  {
   "cell_type": "code",
   "execution_count": 18,
   "id": "4d05c2e3",
   "metadata": {},
   "outputs": [
    {
     "name": "stdout",
     "output_type": "stream",
     "text": [
      "70\n"
     ]
    }
   ],
   "source": [
    "import math\n",
    "import itertools\n",
    "import random\n",
    "import numpy as np\n",
    "\n",
    "number_cup_of_te = 8\n",
    "cup_with_milk_first = 4\n",
    "cup_tea_first= 4\n",
    "\n",
    "ways = math.comb(number_cup_of_te,cup_with_milk_first)\n",
    "\n",
    "print(ways)"
   ]
  },
  {
   "cell_type": "code",
   "execution_count": 3,
   "id": "9e3ce39b",
   "metadata": {},
   "outputs": [
    {
     "data": {
      "text/plain": [
       "[0, 1, 2, 3, 4, 5, 6, 7]"
      ]
     },
     "execution_count": 3,
     "metadata": {},
     "output_type": "execute_result"
    }
   ],
   "source": [
    "labels = list(range(number_cup_of_te))\n",
    "\n",
    "labels"
   ]
  },
  {
   "cell_type": "code",
   "execution_count": 6,
   "id": "37e1dfdb",
   "metadata": {},
   "outputs": [
    {
     "data": {
      "text/plain": [
       "[(0, 1, 2, 3),\n",
       " (0, 1, 2, 4),\n",
       " (0, 1, 2, 5),\n",
       " (0, 1, 2, 6),\n",
       " (0, 1, 2, 7),\n",
       " (0, 1, 3, 4),\n",
       " (0, 1, 3, 5),\n",
       " (0, 1, 3, 6),\n",
       " (0, 1, 3, 7),\n",
       " (0, 1, 4, 5),\n",
       " (0, 1, 4, 6),\n",
       " (0, 1, 4, 7),\n",
       " (0, 1, 5, 6),\n",
       " (0, 1, 5, 7),\n",
       " (0, 1, 6, 7),\n",
       " (0, 2, 3, 4),\n",
       " (0, 2, 3, 5),\n",
       " (0, 2, 3, 6),\n",
       " (0, 2, 3, 7),\n",
       " (0, 2, 4, 5),\n",
       " (0, 2, 4, 6),\n",
       " (0, 2, 4, 7),\n",
       " (0, 2, 5, 6),\n",
       " (0, 2, 5, 7),\n",
       " (0, 2, 6, 7),\n",
       " (0, 3, 4, 5),\n",
       " (0, 3, 4, 6),\n",
       " (0, 3, 4, 7),\n",
       " (0, 3, 5, 6),\n",
       " (0, 3, 5, 7),\n",
       " (0, 3, 6, 7),\n",
       " (0, 4, 5, 6),\n",
       " (0, 4, 5, 7),\n",
       " (0, 4, 6, 7),\n",
       " (0, 5, 6, 7),\n",
       " (1, 2, 3, 4),\n",
       " (1, 2, 3, 5),\n",
       " (1, 2, 3, 6),\n",
       " (1, 2, 3, 7),\n",
       " (1, 2, 4, 5),\n",
       " (1, 2, 4, 6),\n",
       " (1, 2, 4, 7),\n",
       " (1, 2, 5, 6),\n",
       " (1, 2, 5, 7),\n",
       " (1, 2, 6, 7),\n",
       " (1, 3, 4, 5),\n",
       " (1, 3, 4, 6),\n",
       " (1, 3, 4, 7),\n",
       " (1, 3, 5, 6),\n",
       " (1, 3, 5, 7),\n",
       " (1, 3, 6, 7),\n",
       " (1, 4, 5, 6),\n",
       " (1, 4, 5, 7),\n",
       " (1, 4, 6, 7),\n",
       " (1, 5, 6, 7),\n",
       " (2, 3, 4, 5),\n",
       " (2, 3, 4, 6),\n",
       " (2, 3, 4, 7),\n",
       " (2, 3, 5, 6),\n",
       " (2, 3, 5, 7),\n",
       " (2, 3, 6, 7),\n",
       " (2, 4, 5, 6),\n",
       " (2, 4, 5, 7),\n",
       " (2, 4, 6, 7),\n",
       " (2, 5, 6, 7),\n",
       " (3, 4, 5, 6),\n",
       " (3, 4, 5, 7),\n",
       " (3, 4, 6, 7),\n",
       " (3, 5, 6, 7),\n",
       " (4, 5, 6, 7)]"
      ]
     },
     "execution_count": 6,
     "metadata": {},
     "output_type": "execute_result"
    }
   ],
   "source": [
    "combs = list(itertools.combinations(labels,cup_with_milk_first))\n",
    "\n",
    "combs"
   ]
  },
  {
   "cell_type": "code",
   "execution_count": 7,
   "id": "a41d4b0e",
   "metadata": {},
   "outputs": [
    {
     "data": {
      "text/plain": [
       "70"
      ]
     },
     "execution_count": 7,
     "metadata": {},
     "output_type": "execute_result"
    }
   ],
   "source": [
    "len(combs)"
   ]
  },
  {
   "cell_type": "code",
   "execution_count": 14,
   "id": "f71bb2c4",
   "metadata": {},
   "outputs": [
    {
     "data": {
      "text/plain": [
       "[1, 2, 4, 7]"
      ]
     },
     "execution_count": 14,
     "metadata": {},
     "output_type": "execute_result"
    }
   ],
   "source": [
    "labels_milk = random.sample(labels,4)\n",
    "labels_milk.sort()\n",
    "\n",
    "labels_milk"
   ]
  },
  {
   "cell_type": "code",
   "execution_count": 15,
   "id": "2e0900e3",
   "metadata": {},
   "outputs": [
    {
     "data": {
      "text/plain": [
       "{1, 2, 4, 7}"
      ]
     },
     "execution_count": 15,
     "metadata": {},
     "output_type": "execute_result"
    }
   ],
   "source": [
    "set(labels_milk)"
   ]
  },
  {
   "cell_type": "code",
   "execution_count": 16,
   "id": "acc58765",
   "metadata": {},
   "outputs": [
    {
     "name": "stdout",
     "output_type": "stream",
     "text": [
      "(0, 1, 2, 3) {1, 2} 2\n",
      "(0, 1, 2, 4) {1, 2, 4} 3\n",
      "(0, 1, 2, 5) {1, 2} 2\n",
      "(0, 1, 2, 6) {1, 2} 2\n",
      "(0, 1, 2, 7) {1, 2, 7} 3\n",
      "(0, 1, 3, 4) {1, 4} 2\n",
      "(0, 1, 3, 5) {1} 1\n",
      "(0, 1, 3, 6) {1} 1\n",
      "(0, 1, 3, 7) {1, 7} 2\n",
      "(0, 1, 4, 5) {1, 4} 2\n",
      "(0, 1, 4, 6) {1, 4} 2\n",
      "(0, 1, 4, 7) {1, 4, 7} 3\n",
      "(0, 1, 5, 6) {1} 1\n",
      "(0, 1, 5, 7) {1, 7} 2\n",
      "(0, 1, 6, 7) {1, 7} 2\n",
      "(0, 2, 3, 4) {2, 4} 2\n",
      "(0, 2, 3, 5) {2} 1\n",
      "(0, 2, 3, 6) {2} 1\n",
      "(0, 2, 3, 7) {2, 7} 2\n",
      "(0, 2, 4, 5) {2, 4} 2\n",
      "(0, 2, 4, 6) {2, 4} 2\n",
      "(0, 2, 4, 7) {2, 4, 7} 3\n",
      "(0, 2, 5, 6) {2} 1\n",
      "(0, 2, 5, 7) {2, 7} 2\n",
      "(0, 2, 6, 7) {2, 7} 2\n",
      "(0, 3, 4, 5) {4} 1\n",
      "(0, 3, 4, 6) {4} 1\n",
      "(0, 3, 4, 7) {4, 7} 2\n",
      "(0, 3, 5, 6) set() 0\n",
      "(0, 3, 5, 7) {7} 1\n",
      "(0, 3, 6, 7) {7} 1\n",
      "(0, 4, 5, 6) {4} 1\n",
      "(0, 4, 5, 7) {4, 7} 2\n",
      "(0, 4, 6, 7) {4, 7} 2\n",
      "(0, 5, 6, 7) {7} 1\n",
      "(1, 2, 3, 4) {1, 2, 4} 3\n",
      "(1, 2, 3, 5) {1, 2} 2\n",
      "(1, 2, 3, 6) {1, 2} 2\n",
      "(1, 2, 3, 7) {1, 2, 7} 3\n",
      "(1, 2, 4, 5) {1, 2, 4} 3\n",
      "(1, 2, 4, 6) {1, 2, 4} 3\n",
      "(1, 2, 4, 7) {1, 2, 4, 7} 4\n",
      "(1, 2, 5, 6) {1, 2} 2\n",
      "(1, 2, 5, 7) {1, 2, 7} 3\n",
      "(1, 2, 6, 7) {1, 2, 7} 3\n",
      "(1, 3, 4, 5) {1, 4} 2\n",
      "(1, 3, 4, 6) {1, 4} 2\n",
      "(1, 3, 4, 7) {1, 4, 7} 3\n",
      "(1, 3, 5, 6) {1} 1\n",
      "(1, 3, 5, 7) {1, 7} 2\n",
      "(1, 3, 6, 7) {1, 7} 2\n",
      "(1, 4, 5, 6) {1, 4} 2\n",
      "(1, 4, 5, 7) {1, 4, 7} 3\n",
      "(1, 4, 6, 7) {1, 4, 7} 3\n",
      "(1, 5, 6, 7) {1, 7} 2\n",
      "(2, 3, 4, 5) {2, 4} 2\n",
      "(2, 3, 4, 6) {2, 4} 2\n",
      "(2, 3, 4, 7) {2, 4, 7} 3\n",
      "(2, 3, 5, 6) {2} 1\n",
      "(2, 3, 5, 7) {2, 7} 2\n",
      "(2, 3, 6, 7) {2, 7} 2\n",
      "(2, 4, 5, 6) {2, 4} 2\n",
      "(2, 4, 5, 7) {2, 4, 7} 3\n",
      "(2, 4, 6, 7) {2, 4, 7} 3\n",
      "(2, 5, 6, 7) {2, 7} 2\n",
      "(3, 4, 5, 6) {4} 1\n",
      "(3, 4, 5, 7) {4, 7} 2\n",
      "(3, 4, 6, 7) {4, 7} 2\n",
      "(3, 5, 6, 7) {7} 1\n",
      "(4, 5, 6, 7) {4, 7} 2\n"
     ]
    }
   ],
   "source": [
    "no_overlaps =[]\n",
    "\n",
    "for comb in combs:\n",
    "    s1 = set(comb)\n",
    "    s2 = set(labels_milk)\n",
    "    overlap = s1.intersection(s2)\n",
    "    print(comb,overlap, len(overlap))\n",
    "    no_overlaps.append(len(overlap))  "
   ]
  },
  {
   "cell_type": "code",
   "execution_count": 20,
   "id": "bf4bbc8f",
   "metadata": {},
   "outputs": [
    {
     "data": {
      "text/plain": [
       "(array([0, 1, 2, 3, 4]), array([ 1, 16, 36, 16,  1], dtype=int64))"
      ]
     },
     "execution_count": 20,
     "metadata": {},
     "output_type": "execute_result"
    }
   ],
   "source": [
    "counts = np.unique(no_overlaps, return_counts=True)\n",
    "\n",
    "counts"
   ]
  },
  {
   "cell_type": "markdown",
   "id": "0acaa5cf",
   "metadata": {},
   "source": [
    "se podria hacer un grafico y calcular las probabilidades ejemplo 16/70 etc "
   ]
  }
 ],
 "metadata": {
  "kernelspec": {
   "display_name": "base",
   "language": "python",
   "name": "python3"
  },
  "language_info": {
   "codemirror_mode": {
    "name": "ipython",
    "version": 3
   },
   "file_extension": ".py",
   "mimetype": "text/x-python",
   "name": "python",
   "nbconvert_exporter": "python",
   "pygments_lexer": "ipython3",
   "version": "3.11.5"
  }
 },
 "nbformat": 4,
 "nbformat_minor": 5
}
