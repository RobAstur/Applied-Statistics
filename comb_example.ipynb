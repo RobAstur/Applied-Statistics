{
 "cells": [
  {
   "cell_type": "code",
   "execution_count": null,
   "id": "4d05c2e3",
   "metadata": {},
   "outputs": [],
   "source": [
    "import math\n",
    "\n",
    "number_cup_of_te = 8\n",
    "cup_with_milk_first = 4\n",
    "cup_tea_first= 4\n",
    "\n",
    "ways = math.comb(number_cup_of_te,cup_with_milk_first)\n",
    "\n",
    "print(ways)"
   ]
  },
  {
   "cell_type": "code",
   "execution_count": null,
   "id": "9e3ce39b",
   "metadata": {},
   "outputs": [],
   "source": []
  }
 ],
 "metadata": {
  "language_info": {
   "name": "python"
  }
 },
 "nbformat": 4,
 "nbformat_minor": 5
}
